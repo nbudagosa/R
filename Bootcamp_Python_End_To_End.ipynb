{
  "nbformat": 4,
  "nbformat_minor": 0,
  "metadata": {
    "colab": {
      "name": "Bootcamp - Python End To End.ipynb",
      "provenance": [],
      "collapsed_sections": [
        "Ch8iQLWB-TMs"
      ]
    },
    "kernelspec": {
      "name": "python3",
      "display_name": "Python 3"
    },
    "language_info": {
      "name": "python"
    }
  },
  "cells": [
    {
      "cell_type": "markdown",
      "metadata": {
        "id": "NSae3zGJdxnX"
      },
      "source": [
        "# **Topics**\n",
        "\n",
        "- basic calculation\n",
        "- variables\n",
        "- type hints\n",
        "- string methods\n",
        "- data structures: list tuple dictionary\n",
        "- control flow, try catch syntax\n",
        "- function\n",
        "- OOP\n",
        "- import modules\n",
        "- csv example\n",
        "- a little bit of numpy and pandas\n",
        "- intro to sklearn basics/ machine learning\n",
        "- glimpse of tensorflow"
      ]
    },
    {
      "cell_type": "markdown",
      "metadata": {
        "id": "kG7cYO4zo_BD"
      },
      "source": [
        "# **Basic Python**"
      ]
    },
    {
      "cell_type": "code",
      "metadata": {
        "colab": {
          "base_uri": "https://localhost:8080/"
        },
        "id": "bu4SIoCadvH8",
        "outputId": "75d7f392-f57b-4078-921e-f801a3487e00"
      },
      "source": [
        "# calculation\n",
        "print(1 + 1)\n",
        "print(8 - 4)\n",
        "print(2 * 2)\n",
        "print(5 / 2)\n",
        "print(5 ** 2)"
      ],
      "execution_count": null,
      "outputs": [
        {
          "output_type": "stream",
          "text": [
            "2\n",
            "4\n",
            "4\n",
            "2.5\n",
            "25\n"
          ],
          "name": "stdout"
        }
      ]
    },
    {
      "cell_type": "code",
      "metadata": {
        "id": "FIjvGB2tiY9E"
      },
      "source": [
        "# variable\n",
        "my_name = \"Toy\"\n",
        "my_school = 'Kasetsart University'"
      ],
      "execution_count": null,
      "outputs": []
    },
    {
      "cell_type": "code",
      "metadata": {
        "colab": {
          "base_uri": "https://localhost:8080/"
        },
        "id": "34O_OaHJiWa_",
        "outputId": "ca03f1ee-876c-49a2-9ba1-258568dad63e"
      },
      "source": [
        "print('I\\'m learing python')"
      ],
      "execution_count": null,
      "outputs": [
        {
          "output_type": "stream",
          "text": [
            "I'm learing python\n"
          ],
          "name": "stdout"
        }
      ]
    },
    {
      "cell_type": "code",
      "metadata": {
        "id": "qOT-cHskdyKb"
      },
      "source": [
        "# long string\n",
        "long_quote = \"\"\"This is a very long quote\n",
        "I am learning Python\n",
        "The Zen of Python\"\"\""
      ],
      "execution_count": null,
      "outputs": []
    },
    {
      "cell_type": "code",
      "metadata": {
        "colab": {
          "base_uri": "https://localhost:8080/"
        },
        "id": "NLgcBvwxjJpw",
        "outputId": "62520231-e14e-4083-850f-6b369f1f0313"
      },
      "source": [
        "print(long_quote)"
      ],
      "execution_count": null,
      "outputs": [
        {
          "output_type": "stream",
          "text": [
            "This is a very long quote\n",
            "I am learning Python\n",
            "The Zen of Python\n"
          ],
          "name": "stdout"
        }
      ]
    },
    {
      "cell_type": "code",
      "metadata": {
        "id": "AWhKaVsAjLPx"
      },
      "source": [
        "# data types\n",
        "# int, float, str, bool\n",
        "my_name = \"Toy\"\n",
        "age = 32\n",
        "income = 25000.25\n",
        "movie_lover = True # False"
      ],
      "execution_count": null,
      "outputs": []
    },
    {
      "cell_type": "code",
      "metadata": {
        "colab": {
          "base_uri": "https://localhost:8080/"
        },
        "id": "AQl9d0iajyj2",
        "outputId": "70f2f468-f848-41dc-a81d-b589ca33eaff"
      },
      "source": [
        "print(type(my_name))\n",
        "print(type(age))\n",
        "print(type(income))\n",
        "print(type(movie_lover))"
      ],
      "execution_count": null,
      "outputs": [
        {
          "output_type": "stream",
          "text": [
            "<class 'str'>\n",
            "<class 'int'>\n",
            "<class 'float'>\n",
            "<class 'bool'>\n"
          ],
          "name": "stdout"
        }
      ]
    },
    {
      "cell_type": "code",
      "metadata": {
        "colab": {
          "base_uri": "https://localhost:8080/"
        },
        "id": "MHNvxdSxj1S3",
        "outputId": "3676116e-da7e-4096-fe6d-a852116bb669"
      },
      "source": [
        "# check type\n",
        "print(isinstance(my_name, str))\n",
        "print(isinstance(age, int))\n",
        "print(isinstance(income, float))\n",
        "print(isinstance(movie_lover, bool))"
      ],
      "execution_count": null,
      "outputs": [
        {
          "output_type": "stream",
          "text": [
            "True\n",
            "True\n",
            "True\n",
            "True\n"
          ],
          "name": "stdout"
        }
      ]
    },
    {
      "cell_type": "code",
      "metadata": {
        "colab": {
          "base_uri": "https://localhost:8080/"
        },
        "id": "xEg8emh-kb2D",
        "outputId": "8a785a6d-63f7-408a-a6c0-29e80eeef528"
      },
      "source": [
        "# print fstring template\n",
        "my_name = \"Toy\"\n",
        "my_age = 32\n",
        "\n",
        "print( f\"Hello my name is {my_name} and I'm {my_age} years old.\" )"
      ],
      "execution_count": null,
      "outputs": [
        {
          "output_type": "stream",
          "text": [
            "Hello my name is Toy and I'm 32 years old.\n"
          ],
          "name": "stdout"
        }
      ]
    },
    {
      "cell_type": "code",
      "metadata": {
        "colab": {
          "base_uri": "https://localhost:8080/"
        },
        "id": "9w9JSekPlE69",
        "outputId": "ad432376-1cc8-480c-92fd-a50f9f2f0855"
      },
      "source": [
        "# old way .format()\n",
        "print( \"Hello my name is {} and I'm {} years old.\".format(my_name, my_age))"
      ],
      "execution_count": null,
      "outputs": [
        {
          "output_type": "stream",
          "text": [
            "Hello my name is Toy and I'm 32 years old.\n"
          ],
          "name": "stdout"
        }
      ]
    },
    {
      "cell_type": "code",
      "metadata": {
        "colab": {
          "base_uri": "https://localhost:8080/"
        },
        "id": "JAx5hGw3lV0G",
        "outputId": "b1eaa05b-5203-4ba0-8646-b50b8c71f683"
      },
      "source": [
        "# string + string\n",
        "text = 'Hello ' + 'World'\n",
        "print(text)"
      ],
      "execution_count": null,
      "outputs": [
        {
          "output_type": "stream",
          "text": [
            "Hello World\n"
          ],
          "name": "stdout"
        }
      ]
    },
    {
      "cell_type": "code",
      "metadata": {
        "colab": {
          "base_uri": "https://localhost:8080/"
        },
        "id": "jrbWBL4vlnOX",
        "outputId": "c8e27aa2-2d91-4e73-c34f-c56c62e65dde"
      },
      "source": [
        "print('Hello ' * 5)"
      ],
      "execution_count": null,
      "outputs": [
        {
          "output_type": "stream",
          "text": [
            "Hello Hello Hello Hello Hello \n"
          ],
          "name": "stdout"
        }
      ]
    },
    {
      "cell_type": "code",
      "metadata": {
        "id": "TXMarbjJlsyi"
      },
      "source": [
        "# type hints, do not enforced\n",
        "# dynamic typed\n",
        "my_name: str = 'Toy'\n",
        "my_age: int = 32"
      ],
      "execution_count": null,
      "outputs": []
    },
    {
      "cell_type": "code",
      "metadata": {
        "colab": {
          "base_uri": "https://localhost:8080/"
        },
        "id": "5PpeotTQmGb3",
        "outputId": "3a926220-7586-4e2e-ee52-fc0e268ec1f3"
      },
      "source": [
        "# define function\n",
        "def hello(name: str) -> None:\n",
        "    print( f\"hello {name}!\")\n",
        "\n",
        "# test function\n",
        "hello('Toy')"
      ],
      "execution_count": null,
      "outputs": [
        {
          "output_type": "stream",
          "text": [
            "hello Toy!\n"
          ],
          "name": "stdout"
        }
      ]
    },
    {
      "cell_type": "code",
      "metadata": {
        "colab": {
          "base_uri": "https://localhost:8080/"
        },
        "id": "QynL31ONmnYP",
        "outputId": "886ec0bf-a4f4-459d-d230-fa474a582886"
      },
      "source": [
        "def sum_two_num(a: int, b: int) -> int:\n",
        "    assert isinstance(a, int), \"a should be integer\"\n",
        "    assert isinstance(b, int), \"b should be integer\"\n",
        "    return a + b\n",
        "\n",
        "result = sum_two_num(10, 25)\n",
        "print(result)"
      ],
      "execution_count": null,
      "outputs": [
        {
          "output_type": "stream",
          "text": [
            "35\n"
          ],
          "name": "stdout"
        }
      ]
    },
    {
      "cell_type": "markdown",
      "metadata": {
        "id": "Ti9Mh7l0o4XL"
      },
      "source": [
        "# **String Method**"
      ]
    },
    {
      "cell_type": "code",
      "metadata": {
        "colab": {
          "base_uri": "https://localhost:8080/"
        },
        "id": "7aP6vn3RnQzC",
        "outputId": "2115b245-9650-409b-a229-f146ab324ebb"
      },
      "source": [
        "text = \"a duck walks into a bar\"\n",
        "len(text)"
      ],
      "execution_count": null,
      "outputs": [
        {
          "output_type": "execute_result",
          "data": {
            "text/plain": [
              "23"
            ]
          },
          "metadata": {
            "tags": []
          },
          "execution_count": 44
        }
      ]
    },
    {
      "cell_type": "code",
      "metadata": {
        "colab": {
          "base_uri": "https://localhost:8080/"
        },
        "id": "Wvfjrzs1pUUE",
        "outputId": "ad0f2f4b-04ad-477f-b477-c6e66189c113"
      },
      "source": [
        "text.upper()"
      ],
      "execution_count": null,
      "outputs": [
        {
          "output_type": "execute_result",
          "data": {
            "application/vnd.google.colaboratory.intrinsic+json": {
              "type": "string"
            },
            "text/plain": [
              "'A DUCK WALKS INTO A BAR'"
            ]
          },
          "metadata": {
            "tags": []
          },
          "execution_count": 45
        }
      ]
    },
    {
      "cell_type": "code",
      "metadata": {
        "colab": {
          "base_uri": "https://localhost:8080/"
        },
        "id": "NyjqNLTdpswK",
        "outputId": "d171fcd2-cd93-400e-b0d9-cf4d1b640c8e"
      },
      "source": [
        "text.split(\" \")"
      ],
      "execution_count": null,
      "outputs": [
        {
          "output_type": "execute_result",
          "data": {
            "text/plain": [
              "['a', 'duck', 'walks', 'into', 'a', 'bar']"
            ]
          },
          "metadata": {
            "tags": []
          },
          "execution_count": 46
        }
      ]
    },
    {
      "cell_type": "code",
      "metadata": {
        "colab": {
          "base_uri": "https://localhost:8080/"
        },
        "id": "Sq95cYYJp4d8",
        "outputId": "279ba2d2-04fb-491d-dd79-580ff16bc7b4"
      },
      "source": [
        "text = text.replace('duck', 'lion')\n",
        "print(text)"
      ],
      "execution_count": null,
      "outputs": [
        {
          "output_type": "stream",
          "text": [
            "a lion walks into a bar\n"
          ],
          "name": "stdout"
        }
      ]
    },
    {
      "cell_type": "code",
      "metadata": {
        "colab": {
          "base_uri": "https://localhost:8080/"
        },
        "id": "2nHgZN0IqJri",
        "outputId": "41563fc8-2443-4ec0-8b20-9ce395b66082"
      },
      "source": [
        "print(text[2:6]) # up to, but not include 6\n",
        "print(text[7:12])"
      ],
      "execution_count": null,
      "outputs": [
        {
          "output_type": "stream",
          "text": [
            "lion\n",
            "walks\n"
          ],
          "name": "stdout"
        }
      ]
    },
    {
      "cell_type": "code",
      "metadata": {
        "colab": {
          "base_uri": "https://localhost:8080/"
        },
        "id": "x0inHGYlqM9D",
        "outputId": "8e2aedb5-61f9-4671-d984-68e2cdf1625a"
      },
      "source": [
        "print(text[13: ])"
      ],
      "execution_count": null,
      "outputs": [
        {
          "output_type": "stream",
          "text": [
            "into a bar\n"
          ],
          "name": "stdout"
        }
      ]
    },
    {
      "cell_type": "code",
      "metadata": {
        "colab": {
          "base_uri": "https://localhost:8080/"
        },
        "id": "G_Sks1ddq9Xy",
        "outputId": "90fbf073-9c77-4477-8375-11ad323ce3bb"
      },
      "source": [
        "print(text)\n",
        "print(text[0: :3])"
      ],
      "execution_count": null,
      "outputs": [
        {
          "output_type": "stream",
          "text": [
            "a lion walks into a bar\n",
            "ai l taa\n"
          ],
          "name": "stdout"
        }
      ]
    },
    {
      "cell_type": "code",
      "metadata": {
        "id": "LVfxPvH_ryAn"
      },
      "source": [
        "# string is immutable \n",
        "text = \"I love hotdog\"\n",
        "# text = text.replace('hotdog', 'hamburger')"
      ],
      "execution_count": null,
      "outputs": []
    },
    {
      "cell_type": "code",
      "metadata": {
        "colab": {
          "base_uri": "https://localhost:8080/"
        },
        "id": "1PQwaWMXsMgM",
        "outputId": "a26ba3a6-9a94-4a3b-d92a-44ccc3cbd523"
      },
      "source": [
        "text2 = 'He' + text[1:]\n",
        "print(text2)"
      ],
      "execution_count": null,
      "outputs": [
        {
          "output_type": "stream",
          "text": [
            "He love hotdog\n"
          ],
          "name": "stdout"
        }
      ]
    },
    {
      "cell_type": "markdown",
      "metadata": {
        "id": "T6hT_KRhs7J2"
      },
      "source": [
        "# **Data Structure**\n",
        "\n",
        "- list\n",
        "- tuple\n",
        "- dictionary"
      ]
    },
    {
      "cell_type": "code",
      "metadata": {
        "colab": {
          "base_uri": "https://localhost:8080/"
        },
        "id": "ER2eSVX_sM-E",
        "outputId": "d600525d-7e83-42d5-f1b8-870397f6c40e"
      },
      "source": [
        "# list []\n",
        "shopping_list = ['eggs', 'milk', 'bread']\n",
        "print(shopping_list)"
      ],
      "execution_count": null,
      "outputs": [
        {
          "output_type": "stream",
          "text": [
            "['eggs', 'milk', 'bread']\n"
          ],
          "name": "stdout"
        }
      ]
    },
    {
      "cell_type": "code",
      "metadata": {
        "colab": {
          "base_uri": "https://localhost:8080/"
        },
        "id": "reaK4DuctLu7",
        "outputId": "467d0efe-2740-4528-87fd-4babdaf021ca"
      },
      "source": [
        "# update list (list is mutable)\n",
        "shopping_list[0] = 'carrot'\n",
        "print(shopping_list)"
      ],
      "execution_count": null,
      "outputs": [
        {
          "output_type": "stream",
          "text": [
            "['carrot', 'milk', 'bread']\n"
          ],
          "name": "stdout"
        }
      ]
    },
    {
      "cell_type": "code",
      "metadata": {
        "colab": {
          "base_uri": "https://localhost:8080/"
        },
        "id": "-xDmYmwRtUns",
        "outputId": "39b7a2ae-f1be-4f1e-ca4c-5cbbf4b3cff5"
      },
      "source": [
        "another_shopping_list = ['sugar', 'salt']\n",
        "total_list = shopping_list + another_shopping_list \n",
        "\n",
        "print(total_list)"
      ],
      "execution_count": null,
      "outputs": [
        {
          "output_type": "stream",
          "text": [
            "['carrot', 'milk', 'bread', 'sugar', 'salt']\n"
          ],
          "name": "stdout"
        }
      ]
    },
    {
      "cell_type": "code",
      "metadata": {
        "colab": {
          "base_uri": "https://localhost:8080/"
        },
        "id": "fSeObjcttx7F",
        "outputId": "1f480948-72bb-432f-e7cc-a28b1deaeb60"
      },
      "source": [
        "# type hints : list\n",
        "from typing import List\n",
        "\n",
        "friends: List[str] = ['David', 'Joe', 'Anna']\n",
        "salary: List[int] = [50000, 25000, 120000]\n",
        "print(friends)\n",
        "print(salary)"
      ],
      "execution_count": null,
      "outputs": [
        {
          "output_type": "stream",
          "text": [
            "['David', 'Joe', 'Anna']\n",
            "[50000, 25000, 120000]\n"
          ],
          "name": "stdout"
        }
      ]
    },
    {
      "cell_type": "code",
      "metadata": {
        "colab": {
          "base_uri": "https://localhost:8080/"
        },
        "id": "eBwPmgzAt-DA",
        "outputId": "eb119b40-c5ca-4ec3-a32f-f2caed0db1be"
      },
      "source": [
        "# method vs. function\n",
        "# list methods \n",
        "shopping_list.append('sugar')\n",
        "print(shopping_list)"
      ],
      "execution_count": null,
      "outputs": [
        {
          "output_type": "stream",
          "text": [
            "['carrot', 'milk', 'bread', 'sugar']\n"
          ],
          "name": "stdout"
        }
      ]
    },
    {
      "cell_type": "code",
      "metadata": {
        "colab": {
          "base_uri": "https://localhost:8080/"
        },
        "id": "WU7EKzyQu0dw",
        "outputId": "2c0259f8-fc07-4d5b-8665-0e39df2b52f7"
      },
      "source": [
        "shopping_list.append('chocolate milk')\n",
        "print(shopping_list)"
      ],
      "execution_count": null,
      "outputs": [
        {
          "output_type": "stream",
          "text": [
            "['carrot', 'milk', 'bread', 'sugar', 'chocolate milk']\n"
          ],
          "name": "stdout"
        }
      ]
    },
    {
      "cell_type": "code",
      "metadata": {
        "colab": {
          "base_uri": "https://localhost:8080/"
        },
        "id": "mUAmnH55vDDo",
        "outputId": "236c1fed-4123-4a1d-c539-bc8e3e354714"
      },
      "source": [
        "shopping_list.insert(1, 'tomato')\n",
        "print(shopping_list)"
      ],
      "execution_count": null,
      "outputs": [
        {
          "output_type": "stream",
          "text": [
            "['carrot', 'tomato', 'milk', 'bread', 'sugar', 'chocolate milk']\n"
          ],
          "name": "stdout"
        }
      ]
    },
    {
      "cell_type": "code",
      "metadata": {
        "colab": {
          "base_uri": "https://localhost:8080/"
        },
        "id": "j0yxppdxvea-",
        "outputId": "e6ed3501-eb97-446a-dfda-4383d55b8383"
      },
      "source": [
        "shopping_list.remove('sugar')\n",
        "print(shopping_list)"
      ],
      "execution_count": null,
      "outputs": [
        {
          "output_type": "stream",
          "text": [
            "['carrot', 'tomato', 'milk', 'bread', 'chocolate milk']\n"
          ],
          "name": "stdout"
        }
      ]
    },
    {
      "cell_type": "code",
      "metadata": {
        "colab": {
          "base_uri": "https://localhost:8080/"
        },
        "id": "7iAl-qJIvw4g",
        "outputId": "8576225d-3c5f-4e14-faf2-b73679546f6a"
      },
      "source": [
        "# tuple - immutable, ordered\n",
        "username = ('toyeiei', 'datarockie', 'samson')\n",
        "print(username[0])\n",
        "print(username[1])"
      ],
      "execution_count": null,
      "outputs": [
        {
          "output_type": "stream",
          "text": [
            "toyeiei\n",
            "datarockie\n"
          ],
          "name": "stdout"
        }
      ]
    },
    {
      "cell_type": "code",
      "metadata": {
        "colab": {
          "base_uri": "https://localhost:8080/"
        },
        "id": "qqfKAkKtwlhd",
        "outputId": "d190ea85-3773-4a9a-d698-f5012e4ec706"
      },
      "source": [
        "# multiple assignment\n",
        "username1, username2, username3 = username\n",
        "print(username1)\n",
        "print(username2)\n",
        "print(username3)"
      ],
      "execution_count": null,
      "outputs": [
        {
          "output_type": "stream",
          "text": [
            "toyeiei\n",
            "datarockie\n",
            "samson\n"
          ],
          "name": "stdout"
        }
      ]
    },
    {
      "cell_type": "code",
      "metadata": {
        "id": "cIQc6Xtev8n6"
      },
      "source": [
        "# dictionary - mutable, unordered\n",
        "# key-value pair\n",
        "\n",
        "customers = {\n",
        "    \"name\": \"David\", \n",
        "    \"age\": 25,\n",
        "    \"city\": \"London\",\n",
        "    \"fav_movies\": [\"Dark Knight\", \"Avengers\", \"Micky Mouse\"]\n",
        "}"
      ],
      "execution_count": null,
      "outputs": []
    },
    {
      "cell_type": "code",
      "metadata": {
        "colab": {
          "base_uri": "https://localhost:8080/"
        },
        "id": "ZxOfEP2wxctQ",
        "outputId": "2ada38dc-58d7-42cd-96e3-de78411fe4c1"
      },
      "source": [
        "customers[\"fav_movies\"][1]"
      ],
      "execution_count": null,
      "outputs": [
        {
          "output_type": "execute_result",
          "data": {
            "application/vnd.google.colaboratory.intrinsic+json": {
              "type": "string"
            },
            "text/plain": [
              "'Avengers'"
            ]
          },
          "metadata": {
            "tags": []
          },
          "execution_count": 106
        }
      ]
    },
    {
      "cell_type": "code",
      "metadata": {
        "id": "Zt2Nwf6Ex_HV"
      },
      "source": [
        "# list of dictionary\n",
        "list_customers = [\n",
        "    {\n",
        "        \"name\": \"David\", \n",
        "        \"age\": 25,\n",
        "        \"city\": \"London\",\n",
        "        \"fav_movies\": [\"Dark Knight\", \"Avengers\", \"Micky Mouse\"]\n",
        "    }, \n",
        "    {\n",
        "        \"name\": \"Marry\", \n",
        "        \"age\": 22,\n",
        "        \"gender\": \"Female\",\n",
        "        \"city\": \"Tokyo\",\n",
        "        \"fav_movies\": [\"Cinderella\", \"Avengers\"]\n",
        "    },\n",
        "    {\n",
        "        \"name\": \"Jone\", \n",
        "        \"age\": 38,\n",
        "        \"city\": \"Washington\",\n",
        "        \"fav_movies\": None,\n",
        "        \"like_thailand\": True\n",
        "    }           \n",
        "]"
      ],
      "execution_count": null,
      "outputs": []
    },
    {
      "cell_type": "code",
      "metadata": {
        "colab": {
          "base_uri": "https://localhost:8080/"
        },
        "id": "Yf0VkfAXzOm3",
        "outputId": "e55c2030-d802-41fd-b229-f2382c73ae86"
      },
      "source": [
        "list_customers"
      ],
      "execution_count": null,
      "outputs": [
        {
          "output_type": "execute_result",
          "data": {
            "text/plain": [
              "[{'age': 25,\n",
              "  'city': 'London',\n",
              "  'fav_movies': ['Dark Knight', 'Avengers', 'Micky Mouse'],\n",
              "  'name': 'David'},\n",
              " {'age': 22,\n",
              "  'city': 'Tokyo',\n",
              "  'fav_movies': ['Cinderella', 'Avengers'],\n",
              "  'gender': 'Female',\n",
              "  'name': 'Marry'},\n",
              " {'age': 38,\n",
              "  'city': 'Washington',\n",
              "  'fav_movies': None,\n",
              "  'like_thailand': True,\n",
              "  'name': 'Jone'}]"
            ]
          },
          "metadata": {
            "tags": []
          },
          "execution_count": 108
        }
      ]
    },
    {
      "cell_type": "code",
      "metadata": {
        "colab": {
          "base_uri": "https://localhost:8080/"
        },
        "id": "EGGsZs8XzP2i",
        "outputId": "b524afd9-d78f-485e-d0f8-634bd6701533"
      },
      "source": [
        "list_customers[1]['fav_movies'][0]"
      ],
      "execution_count": null,
      "outputs": [
        {
          "output_type": "execute_result",
          "data": {
            "application/vnd.google.colaboratory.intrinsic+json": {
              "type": "string"
            },
            "text/plain": [
              "'Cinderella'"
            ]
          },
          "metadata": {
            "tags": []
          },
          "execution_count": 114
        }
      ]
    },
    {
      "cell_type": "code",
      "metadata": {
        "id": "S7hqz3dNzX00"
      },
      "source": [
        "customers = {\n",
        "    \"name\": \"David\", \n",
        "    \"age\": 25,\n",
        "    \"city\": \"London\",\n",
        "    \"fav_movies\": [\"Dark Knight\", \"Avengers\", \"Micky Mouse\"]\n",
        "}"
      ],
      "execution_count": null,
      "outputs": []
    },
    {
      "cell_type": "code",
      "metadata": {
        "colab": {
          "base_uri": "https://localhost:8080/"
        },
        "id": "3D0OF0Spz4z2",
        "outputId": "5640e699-f87f-4835-d901-b7e99b83ae25"
      },
      "source": [
        "list( customers.keys() )"
      ],
      "execution_count": null,
      "outputs": [
        {
          "output_type": "execute_result",
          "data": {
            "text/plain": [
              "['name', 'age', 'city', 'fav_movies']"
            ]
          },
          "metadata": {
            "tags": []
          },
          "execution_count": 117
        }
      ]
    },
    {
      "cell_type": "code",
      "metadata": {
        "colab": {
          "base_uri": "https://localhost:8080/"
        },
        "id": "HEu9i_V30BcZ",
        "outputId": "da980682-d451-4765-8035-51ca7f22f355"
      },
      "source": [
        "list( customers.values() )"
      ],
      "execution_count": null,
      "outputs": [
        {
          "output_type": "execute_result",
          "data": {
            "text/plain": [
              "['David', 25, 'London', ['Dark Knight', 'Avengers', 'Micky Mouse']]"
            ]
          },
          "metadata": {
            "tags": []
          },
          "execution_count": 118
        }
      ]
    },
    {
      "cell_type": "code",
      "metadata": {
        "colab": {
          "base_uri": "https://localhost:8080/"
        },
        "id": "AmeYXBXy0JJB",
        "outputId": "dc8719f5-0934-428c-d82b-23223ee11701"
      },
      "source": [
        "customers.get('name')"
      ],
      "execution_count": null,
      "outputs": [
        {
          "output_type": "execute_result",
          "data": {
            "application/vnd.google.colaboratory.intrinsic+json": {
              "type": "string"
            },
            "text/plain": [
              "'David'"
            ]
          },
          "metadata": {
            "tags": []
          },
          "execution_count": 123
        }
      ]
    },
    {
      "cell_type": "code",
      "metadata": {
        "id": "t9a9fnll0Q6h"
      },
      "source": [
        "# list tuple dictionary"
      ],
      "execution_count": null,
      "outputs": []
    },
    {
      "cell_type": "markdown",
      "metadata": {
        "id": "LFG3v9tL0_RX"
      },
      "source": [
        "# **Control Flow**\n",
        "\n",
        "- if\n",
        "- for\n",
        "- while\n",
        "- try catch (Error)"
      ]
    },
    {
      "cell_type": "code",
      "metadata": {
        "id": "sex3WLkp0_AC"
      },
      "source": [
        "# write function \n",
        "def grade():\n",
        "    score = int(input(\"What is your exam score? \"))\n",
        "    if (score >= 80):\n",
        "        return \"Passed\"\n",
        "    else:\n",
        "        return \"Failed\""
      ],
      "execution_count": null,
      "outputs": []
    },
    {
      "cell_type": "code",
      "metadata": {
        "colab": {
          "base_uri": "https://localhost:8080/"
        },
        "id": "niwBmVTv1Z3x",
        "outputId": "334b2057-6e4a-4e1e-fdde-26e2a6e4a792"
      },
      "source": [
        "result = grade()"
      ],
      "execution_count": null,
      "outputs": [
        {
          "output_type": "stream",
          "text": [
            "What is your exam score? 92\n"
          ],
          "name": "stdout"
        }
      ]
    },
    {
      "cell_type": "code",
      "metadata": {
        "id": "oRdGxNSK1uYL"
      },
      "source": [
        "def grade_2():\n",
        "    score = int(input(\"What is your exam score? \"))\n",
        "    if (score >= 80):\n",
        "        return \"A\"\n",
        "    elif (score >= 70):\n",
        "        return \"B\"\n",
        "    elif (score >= 60):\n",
        "        return \"C\"\n",
        "    elif (score >= 50):\n",
        "        return \"D\"\n",
        "    else:\n",
        "        return \"F\""
      ],
      "execution_count": null,
      "outputs": []
    },
    {
      "cell_type": "code",
      "metadata": {
        "colab": {
          "base_uri": "https://localhost:8080/"
        },
        "id": "9lHavbkX1vIX",
        "outputId": "9d672726-4946-457a-de6c-5aec97f97eb2"
      },
      "source": [
        "grade_2()"
      ],
      "execution_count": null,
      "outputs": [
        {
          "output_type": "stream",
          "text": [
            "What is your exam score? 45\n"
          ],
          "name": "stdout"
        },
        {
          "output_type": "execute_result",
          "data": {
            "application/vnd.google.colaboratory.intrinsic+json": {
              "type": "string"
            },
            "text/plain": [
              "'F'"
            ]
          },
          "metadata": {
            "tags": []
          },
          "execution_count": 146
        }
      ]
    },
    {
      "cell_type": "code",
      "metadata": {
        "colab": {
          "base_uri": "https://localhost:8080/"
        },
        "id": "UL-ifRRa2Bc8",
        "outputId": "4830c277-b2e9-4cdc-c93d-4b2df6f25977"
      },
      "source": [
        "# while loop\n",
        "count = 0\n",
        "while (count < 5):\n",
        "    print(\"hello world!\")\n",
        "    count += 1"
      ],
      "execution_count": null,
      "outputs": [
        {
          "output_type": "stream",
          "text": [
            "hello world!\n",
            "hello world!\n",
            "hello world!\n",
            "hello world!\n",
            "hello world!\n"
          ],
          "name": "stdout"
        }
      ]
    },
    {
      "cell_type": "code",
      "metadata": {
        "id": "jWFdUG1V6DR9"
      },
      "source": [
        "# while loop another example\n",
        "def play_game():\n",
        "    while (True):\n",
        "        print('Type q to quit the game')\n",
        "        the_real_answer = 'tiger'\n",
        "        user_input = input('Please guess an animal: ')\n",
        "        if (user_input == the_real_answer):\n",
        "            return \"Congratulation\"\n",
        "        if (user_input == 'q'):\n",
        "            break   \n",
        "    print(\"Good Bye!\")"
      ],
      "execution_count": null,
      "outputs": []
    },
    {
      "cell_type": "code",
      "metadata": {
        "colab": {
          "base_uri": "https://localhost:8080/"
        },
        "id": "5EKB8epL6DUf",
        "outputId": "164f4147-e5e5-4f74-fd76-32454db8bf71"
      },
      "source": [
        "play_game()"
      ],
      "execution_count": null,
      "outputs": [
        {
          "output_type": "stream",
          "text": [
            "Type q to quit the game\n",
            "Please guess an animal: giraffe\n",
            "Type q to quit the game\n",
            "Please guess an animal: tiger\n"
          ],
          "name": "stdout"
        },
        {
          "output_type": "execute_result",
          "data": {
            "application/vnd.google.colaboratory.intrinsic+json": {
              "type": "string"
            },
            "text/plain": [
              "'Congratulation'"
            ]
          },
          "metadata": {
            "tags": []
          },
          "execution_count": 160
        }
      ]
    },
    {
      "cell_type": "code",
      "metadata": {
        "colab": {
          "base_uri": "https://localhost:8080/"
        },
        "id": "IC8Rc0aw7PsK",
        "outputId": "5fdcb632-952a-44d9-f09f-d9300e0f98fb"
      },
      "source": [
        "# for loop \n",
        "friends = ['David', 'Mary', 'Jone']\n",
        "for friend in friends:\n",
        "    print(\"Hello \" + friend.upper() )"
      ],
      "execution_count": null,
      "outputs": [
        {
          "output_type": "stream",
          "text": [
            "Hello DAVID\n",
            "Hello MARY\n",
            "Hello JONE\n"
          ],
          "name": "stdout"
        }
      ]
    },
    {
      "cell_type": "code",
      "metadata": {
        "id": "mCeHxVWB8536"
      },
      "source": [
        "# list comprehension\n",
        "upper_friends = [\"Hello \" + friend.upper() for friend in friends]"
      ],
      "execution_count": null,
      "outputs": []
    },
    {
      "cell_type": "code",
      "metadata": {
        "colab": {
          "base_uri": "https://localhost:8080/"
        },
        "id": "Qq0YZReD9fxk",
        "outputId": "b3ae9a5d-40e0-4afb-c5ef-dea3e08b9a03"
      },
      "source": [
        "print(upper_friends)"
      ],
      "execution_count": null,
      "outputs": [
        {
          "output_type": "stream",
          "text": [
            "['Hello DAVID', 'Hello MARY', 'Hello JONE']\n"
          ],
          "name": "stdout"
        }
      ]
    },
    {
      "cell_type": "code",
      "metadata": {
        "colab": {
          "base_uri": "https://localhost:8080/"
        },
        "id": "AuaLhbRe9kng",
        "outputId": "2995f342-422b-40b8-831d-59a1b6ec6b72"
      },
      "source": [
        "# list comprehension\n",
        "numbers = [1 , 5, 15, 22]\n",
        "result = [num * 2 for num in numbers ]\n",
        "\n",
        "print(result)"
      ],
      "execution_count": null,
      "outputs": [
        {
          "output_type": "stream",
          "text": [
            "[2, 10, 30, 44]\n"
          ],
          "name": "stdout"
        }
      ]
    },
    {
      "cell_type": "code",
      "metadata": {
        "id": "jDhZ2_pY91gI"
      },
      "source": [
        ""
      ],
      "execution_count": null,
      "outputs": []
    },
    {
      "cell_type": "markdown",
      "metadata": {
        "id": "gZMd9n3F-Sdc"
      },
      "source": [
        "# **Functions**"
      ]
    },
    {
      "cell_type": "code",
      "metadata": {
        "colab": {
          "base_uri": "https://localhost:8080/"
        },
        "id": "NBVjS4GZ-Zj0",
        "outputId": "c8919325-b75e-4918-bd13-b356f3fdfddc"
      },
      "source": [
        "def cube(number: int) -> int:\n",
        "    assert isinstance(number, int), \"number should be int\"\n",
        "    return number ** 3\n",
        "\n",
        "cube(5)"
      ],
      "execution_count": null,
      "outputs": [
        {
          "output_type": "execute_result",
          "data": {
            "text/plain": [
              "125"
            ]
          },
          "metadata": {
            "tags": []
          },
          "execution_count": 172
        }
      ]
    },
    {
      "cell_type": "code",
      "metadata": {
        "id": "5b1oFJ8F-xdd"
      },
      "source": [
        "# lambda function\n",
        "cube = lambda number: number ** 3\n",
        "sum_two_num = lambda a, b: a + b"
      ],
      "execution_count": null,
      "outputs": []
    },
    {
      "cell_type": "code",
      "metadata": {
        "colab": {
          "base_uri": "https://localhost:8080/"
        },
        "id": "-eIBgj9o--80",
        "outputId": "c81ff91e-bfc5-47ed-c34c-8a050fa9c622"
      },
      "source": [
        "sum_two_num(12, 25)"
      ],
      "execution_count": null,
      "outputs": [
        {
          "output_type": "execute_result",
          "data": {
            "text/plain": [
              "37"
            ]
          },
          "metadata": {
            "tags": []
          },
          "execution_count": 178
        }
      ]
    },
    {
      "cell_type": "code",
      "metadata": {
        "id": "fBLgTuba_S95"
      },
      "source": [
        "# list of tuple\n",
        "cars = [ ('mazda', 2010), \n",
        "  ('toyota', 2015), \n",
        "  ('honda', 2001), \n",
        "  ('mitsubishi', 2002), \n",
        "  ('ford', 2021) ]"
      ],
      "execution_count": null,
      "outputs": []
    },
    {
      "cell_type": "code",
      "metadata": {
        "colab": {
          "base_uri": "https://localhost:8080/"
        },
        "id": "9aCiXZYw_TG_",
        "outputId": "bef7cea9-5d3e-46eb-a46e-263b752985a6"
      },
      "source": [
        "cars.sort(key = lambda car: car[1], reverse = True )\n",
        "print(cars)"
      ],
      "execution_count": null,
      "outputs": [
        {
          "output_type": "stream",
          "text": [
            "[('ford', 2021), ('toyota', 2015), ('mazda', 2010), ('mitsubishi', 2002), ('honda', 2001)]\n"
          ],
          "name": "stdout"
        }
      ]
    },
    {
      "cell_type": "code",
      "metadata": {
        "colab": {
          "base_uri": "https://localhost:8080/"
        },
        "id": "oK0jPcXH_TKv",
        "outputId": "7eb7ed8c-393b-40d9-e383-86530867d886"
      },
      "source": [
        "x = 10\n",
        "\n",
        "try:\n",
        "    print(x/ 0)\n",
        "except ZeroDivisionError:\n",
        "    print(\"Cannot divide x by zero.\")\n",
        "except NameError:\n",
        "    print(\"Variable is not defined.\")\n",
        "finally:\n",
        "    print(\"It's done!\")"
      ],
      "execution_count": null,
      "outputs": [
        {
          "output_type": "stream",
          "text": [
            "Cannot divide x by zero.\n",
            "It's done!\n"
          ],
          "name": "stdout"
        }
      ]
    },
    {
      "cell_type": "markdown",
      "metadata": {
        "id": "Ch8iQLWB-TMs"
      },
      "source": [
        "# **OOP**"
      ]
    },
    {
      "cell_type": "code",
      "metadata": {
        "id": "jhpV1uuL-YcV"
      },
      "source": [
        "class Dog():\n",
        "    def __init__(self, name, age, color):\n",
        "        self.name = name\n",
        "        self.age = age\n",
        "        self.color = color\n",
        "    \n",
        "    def __str__(self):\n",
        "        return f\"Hey I am a Dog class and my name is {self.name}\"\n",
        "\n",
        "    def sitting(self):\n",
        "        print(\"I'm sitting now!\")\n",
        "\n",
        "    def eating(self, food_name):\n",
        "        print( f\"My favorite food is {food_name}.\")\n",
        "\n",
        "    def get_older(self):\n",
        "        self.age += 1"
      ],
      "execution_count": null,
      "outputs": []
    },
    {
      "cell_type": "code",
      "metadata": {
        "id": "EL08g4PbCbba"
      },
      "source": [
        "joey = Dog('joey', 5, 'black')"
      ],
      "execution_count": null,
      "outputs": []
    },
    {
      "cell_type": "code",
      "metadata": {
        "colab": {
          "base_uri": "https://localhost:8080/"
        },
        "id": "pDgvxGdXCgn5",
        "outputId": "7966f9ef-c711-44c5-a2cc-b15b69b4730a"
      },
      "source": [
        "print(joey)"
      ],
      "execution_count": null,
      "outputs": [
        {
          "output_type": "stream",
          "text": [
            "Hey I am a Dog class and my name is joey\n"
          ],
          "name": "stdout"
        }
      ]
    },
    {
      "cell_type": "code",
      "metadata": {
        "colab": {
          "base_uri": "https://localhost:8080/"
        },
        "id": "z5hUSWQEE5rM",
        "outputId": "82009ed1-e0c3-4f25-de82-184b6711cd39"
      },
      "source": [
        "joey.sitting()"
      ],
      "execution_count": null,
      "outputs": [
        {
          "output_type": "stream",
          "text": [
            "I'm sitting now!\n"
          ],
          "name": "stdout"
        }
      ]
    },
    {
      "cell_type": "code",
      "metadata": {
        "colab": {
          "base_uri": "https://localhost:8080/"
        },
        "id": "d4GiV_gvC9pe",
        "outputId": "991caa79-9f2a-4b26-abe0-ffa524f93546"
      },
      "source": [
        "joey.eating('pizza')"
      ],
      "execution_count": null,
      "outputs": [
        {
          "output_type": "stream",
          "text": [
            "My favorite food is pizza.\n"
          ],
          "name": "stdout"
        }
      ]
    },
    {
      "cell_type": "code",
      "metadata": {
        "colab": {
          "base_uri": "https://localhost:8080/"
        },
        "id": "bK0uy7OIEVj5",
        "outputId": "d2752ab9-8364-49fc-caad-f593c518e437"
      },
      "source": [
        "joey.get_older()\n",
        "print(joey.age)"
      ],
      "execution_count": null,
      "outputs": [
        {
          "output_type": "stream",
          "text": [
            "6\n"
          ],
          "name": "stdout"
        }
      ]
    },
    {
      "cell_type": "code",
      "metadata": {
        "colab": {
          "base_uri": "https://localhost:8080/"
        },
        "id": "BFZlvmJ9Fznd",
        "outputId": "668f6c99-6927-44ba-f31a-f0f70f484c2b"
      },
      "source": [
        "joey"
      ],
      "execution_count": null,
      "outputs": [
        {
          "output_type": "execute_result",
          "data": {
            "text/plain": [
              "<__main__.Dog at 0x7f3f7f79a290>"
            ]
          },
          "metadata": {
            "tags": []
          },
          "execution_count": 223
        }
      ]
    },
    {
      "cell_type": "markdown",
      "metadata": {
        "id": "R3wuoZV4HZZT"
      },
      "source": [
        "# **We Build ATM**\n",
        "\n",
        "- Attributes => balance\n",
        "\n",
        "- Methods => deposit, withdraw, check balance"
      ]
    },
    {
      "cell_type": "code",
      "metadata": {
        "id": "jdRHlcb7F_Fk"
      },
      "source": [
        "import random\n",
        "\n",
        "class ATM():\n",
        "    def __init__(self, account_name, initial):\n",
        "        self.account_name = account_name\n",
        "        self.balance = initial \n",
        "    \n",
        "    def __str__(self):\n",
        "        return f\"Your accout name: {self.account_name}\"\n",
        "\n",
        "    def check_balance(self):\n",
        "        print( f\"Your balance: {self.balance} THB\")\n",
        "\n",
        "    def deposit(self, money):\n",
        "        self.balance += money\n",
        "\n",
        "    def withdraw(self, money):\n",
        "        if money > self.balance:\n",
        "            print(f\"Your balance: {self.balance} is not enough.\")\n",
        "        else:\n",
        "            print(\"Success Transaction.\")\n",
        "            self.balance -= money\n",
        "    \n",
        "    def online_withdraw(self, money):\n",
        "        if money > self.balance:\n",
        "            print(\"Error: Your balance is not enough.\")\n",
        "        else: \n",
        "            OTP = random.randint(10000, 99999)\n",
        "            print(OTP)\n",
        "            user_input = int(input(\"Please type your OTP: \"))\n",
        "            if (OTP == user_input):\n",
        "                print(\"Success: Please receive your money.\")\n",
        "                self.balance -= money\n",
        "            else:\n",
        "                print(\"Your OTP is incorrect. Please try again.\")"
      ],
      "execution_count": null,
      "outputs": []
    },
    {
      "cell_type": "code",
      "metadata": {
        "colab": {
          "base_uri": "https://localhost:8080/"
        },
        "id": "wHhK4x06HoKA",
        "outputId": "36a15853-9c48-439a-8bd6-1d50de312ee9"
      },
      "source": [
        "my_atm = ATM('Kasidis Toy', 1000)\n",
        "my_atm.check_balance()"
      ],
      "execution_count": null,
      "outputs": [
        {
          "output_type": "stream",
          "text": [
            "Your balance: 1000 THB\n"
          ],
          "name": "stdout"
        }
      ]
    },
    {
      "cell_type": "code",
      "metadata": {
        "colab": {
          "base_uri": "https://localhost:8080/"
        },
        "id": "RBhBso4fJdTI",
        "outputId": "46d98ec0-90c3-4d2c-b86a-70053f840f13"
      },
      "source": [
        "my_atm.deposit(1000)\n",
        "my_atm.withdraw(500)\n",
        "my_atm.check_balance()"
      ],
      "execution_count": null,
      "outputs": [
        {
          "output_type": "stream",
          "text": [
            "Success Transaction.\n",
            "Your balance: 1500 THB\n"
          ],
          "name": "stdout"
        }
      ]
    },
    {
      "cell_type": "code",
      "metadata": {
        "colab": {
          "base_uri": "https://localhost:8080/"
        },
        "id": "Po74G-YXMHOL",
        "outputId": "66d94674-6804-44f4-b7c1-43eae5da0e5b"
      },
      "source": [
        "my_atm.online_withdraw(900)"
      ],
      "execution_count": null,
      "outputs": [
        {
          "output_type": "stream",
          "text": [
            "26197\n",
            "Please type your OTP: 26197\n",
            "Success: Please receive your money.\n"
          ],
          "name": "stdout"
        }
      ]
    },
    {
      "cell_type": "code",
      "metadata": {
        "colab": {
          "base_uri": "https://localhost:8080/"
        },
        "id": "sksOLu6eMPq4",
        "outputId": "d72003d5-ead5-4b09-eee9-eb49741d5e8e"
      },
      "source": [
        "my_atm.check_balance()"
      ],
      "execution_count": null,
      "outputs": [
        {
          "output_type": "stream",
          "text": [
            "Your balance: 600 THB\n"
          ],
          "name": "stdout"
        }
      ]
    },
    {
      "cell_type": "markdown",
      "metadata": {
        "id": "WL-XrxRTM23V"
      },
      "source": [
        "# **Pandas**"
      ]
    },
    {
      "cell_type": "code",
      "metadata": {
        "colab": {
          "base_uri": "https://localhost:8080/"
        },
        "id": "6FakFDFaNInE",
        "outputId": "d6213d2d-72fe-4c64-817d-e2b280b1a532"
      },
      "source": [
        "# magic command\n",
        "!pwd\n",
        "!ls sample_data"
      ],
      "execution_count": null,
      "outputs": [
        {
          "output_type": "stream",
          "text": [
            "/content\n",
            "anscombe.json\t\t      mnist_test.csv\n",
            "california_housing_test.csv   mnist_train_small.csv\n",
            "california_housing_train.csv  README.md\n"
          ],
          "name": "stdout"
        }
      ]
    },
    {
      "cell_type": "code",
      "metadata": {
        "id": "mycRYqkaM8Tw"
      },
      "source": [
        "import numpy as np\n",
        "import pandas as pd"
      ],
      "execution_count": null,
      "outputs": []
    },
    {
      "cell_type": "code",
      "metadata": {
        "id": "qxiA5tTLN0iG"
      },
      "source": [
        "numbers = [1, 2, 5, 10, 25]\n",
        "numbers = np.array(numbers)"
      ],
      "execution_count": null,
      "outputs": []
    },
    {
      "cell_type": "code",
      "metadata": {
        "colab": {
          "base_uri": "https://localhost:8080/"
        },
        "id": "_QQFxrWkOAyr",
        "outputId": "a82093dc-3c84-435d-ad64-cfe4412660c9"
      },
      "source": [
        "print( numbers.mean() )\n",
        "print( numbers.max() )\n",
        "print( numbers.min() )\n",
        "print( numbers.sum() )\n",
        "print( numbers.std() )"
      ],
      "execution_count": null,
      "outputs": [
        {
          "output_type": "stream",
          "text": [
            "8.6\n",
            "25\n",
            "1\n",
            "43\n",
            "8.777243302996675\n"
          ],
          "name": "stdout"
        }
      ]
    },
    {
      "cell_type": "code",
      "metadata": {
        "id": "LRzlcMt_Og0e"
      },
      "source": [
        "# load csv to dataframe\n",
        "stores = pd.read_csv(\"Sample SuperStore.csv\")"
      ],
      "execution_count": null,
      "outputs": []
    },
    {
      "cell_type": "code",
      "metadata": {
        "colab": {
          "base_uri": "https://localhost:8080/",
          "height": 366
        },
        "id": "HKsdAdUAPPdD",
        "outputId": "18fb5122-f45f-4f35-bc50-a7e9c2b03838"
      },
      "source": [
        "stores.tail(3)"
      ],
      "execution_count": null,
      "outputs": [
        {
          "output_type": "execute_result",
          "data": {
            "text/html": [
              "<div>\n",
              "<style scoped>\n",
              "    .dataframe tbody tr th:only-of-type {\n",
              "        vertical-align: middle;\n",
              "    }\n",
              "\n",
              "    .dataframe tbody tr th {\n",
              "        vertical-align: top;\n",
              "    }\n",
              "\n",
              "    .dataframe thead th {\n",
              "        text-align: right;\n",
              "    }\n",
              "</style>\n",
              "<table border=\"1\" class=\"dataframe\">\n",
              "  <thead>\n",
              "    <tr style=\"text-align: right;\">\n",
              "      <th></th>\n",
              "      <th>Row ID</th>\n",
              "      <th>Order ID</th>\n",
              "      <th>Order Date</th>\n",
              "      <th>Ship Date</th>\n",
              "      <th>Ship Mode</th>\n",
              "      <th>Customer ID</th>\n",
              "      <th>Customer Name</th>\n",
              "      <th>Segment</th>\n",
              "      <th>Country</th>\n",
              "      <th>City</th>\n",
              "      <th>State</th>\n",
              "      <th>Postal Code</th>\n",
              "      <th>Region</th>\n",
              "      <th>Product ID</th>\n",
              "      <th>Category</th>\n",
              "      <th>Sub-Category</th>\n",
              "      <th>Product Name</th>\n",
              "      <th>Sales</th>\n",
              "      <th>Quantity</th>\n",
              "      <th>Discount</th>\n",
              "      <th>Profit</th>\n",
              "    </tr>\n",
              "  </thead>\n",
              "  <tbody>\n",
              "    <tr>\n",
              "      <th>9991</th>\n",
              "      <td>9992</td>\n",
              "      <td>CA-2017-121258</td>\n",
              "      <td>2/26/2017</td>\n",
              "      <td>3/3/2017</td>\n",
              "      <td>Standard Class</td>\n",
              "      <td>DB-13060</td>\n",
              "      <td>Dave Brooks</td>\n",
              "      <td>Consumer</td>\n",
              "      <td>United States</td>\n",
              "      <td>Costa Mesa</td>\n",
              "      <td>California</td>\n",
              "      <td>92627</td>\n",
              "      <td>West</td>\n",
              "      <td>TEC-PH-10003645</td>\n",
              "      <td>Technology</td>\n",
              "      <td>Phones</td>\n",
              "      <td>Aastra 57i VoIP phone</td>\n",
              "      <td>258.576</td>\n",
              "      <td>2</td>\n",
              "      <td>0.2</td>\n",
              "      <td>19.3932</td>\n",
              "    </tr>\n",
              "    <tr>\n",
              "      <th>9992</th>\n",
              "      <td>9993</td>\n",
              "      <td>CA-2017-121258</td>\n",
              "      <td>2/26/2017</td>\n",
              "      <td>3/3/2017</td>\n",
              "      <td>Standard Class</td>\n",
              "      <td>DB-13060</td>\n",
              "      <td>Dave Brooks</td>\n",
              "      <td>Consumer</td>\n",
              "      <td>United States</td>\n",
              "      <td>Costa Mesa</td>\n",
              "      <td>California</td>\n",
              "      <td>92627</td>\n",
              "      <td>West</td>\n",
              "      <td>OFF-PA-10004041</td>\n",
              "      <td>Office Supplies</td>\n",
              "      <td>Paper</td>\n",
              "      <td>It's Hot Message Books with Stickers, 2 3/4\" x 5\"</td>\n",
              "      <td>29.600</td>\n",
              "      <td>4</td>\n",
              "      <td>0.0</td>\n",
              "      <td>13.3200</td>\n",
              "    </tr>\n",
              "    <tr>\n",
              "      <th>9993</th>\n",
              "      <td>9994</td>\n",
              "      <td>CA-2017-119914</td>\n",
              "      <td>5/4/2017</td>\n",
              "      <td>5/9/2017</td>\n",
              "      <td>Second Class</td>\n",
              "      <td>CC-12220</td>\n",
              "      <td>Chris Cortes</td>\n",
              "      <td>Consumer</td>\n",
              "      <td>United States</td>\n",
              "      <td>Westminster</td>\n",
              "      <td>California</td>\n",
              "      <td>92683</td>\n",
              "      <td>West</td>\n",
              "      <td>OFF-AP-10002684</td>\n",
              "      <td>Office Supplies</td>\n",
              "      <td>Appliances</td>\n",
              "      <td>Acco 7-Outlet Masterpiece Power Center, Wihtou...</td>\n",
              "      <td>243.160</td>\n",
              "      <td>2</td>\n",
              "      <td>0.0</td>\n",
              "      <td>72.9480</td>\n",
              "    </tr>\n",
              "  </tbody>\n",
              "</table>\n",
              "</div>"
            ],
            "text/plain": [
              "      Row ID        Order ID Order Date  ... Quantity Discount   Profit\n",
              "9991    9992  CA-2017-121258  2/26/2017  ...        2      0.2  19.3932\n",
              "9992    9993  CA-2017-121258  2/26/2017  ...        4      0.0  13.3200\n",
              "9993    9994  CA-2017-119914   5/4/2017  ...        2      0.0  72.9480\n",
              "\n",
              "[3 rows x 21 columns]"
            ]
          },
          "metadata": {
            "tags": []
          },
          "execution_count": 297
        }
      ]
    },
    {
      "cell_type": "code",
      "metadata": {
        "colab": {
          "base_uri": "https://localhost:8080/"
        },
        "id": "AcmCjhWpPWUW",
        "outputId": "614c7872-c050-4a51-b0a8-cafcd3b5e7ed"
      },
      "source": [
        "# shape: rows , columns\n",
        "stores.shape"
      ],
      "execution_count": null,
      "outputs": [
        {
          "output_type": "execute_result",
          "data": {
            "text/plain": [
              "(9994, 21)"
            ]
          },
          "metadata": {
            "tags": []
          },
          "execution_count": 298
        }
      ]
    },
    {
      "cell_type": "code",
      "metadata": {
        "id": "reIPK49qPpfR"
      },
      "source": [
        "# filter data\n",
        "stores_california_consumer = stores.query(\"Segment == 'Consumer' & State == 'California'\")"
      ],
      "execution_count": null,
      "outputs": []
    },
    {
      "cell_type": "code",
      "metadata": {
        "id": "KE4BczknQHcZ"
      },
      "source": [
        "# export csv\n",
        "stores_california_consumer.to_csv('california_consumer.csv')"
      ],
      "execution_count": null,
      "outputs": []
    },
    {
      "cell_type": "code",
      "metadata": {
        "id": "UvKPYKnwQuYt"
      },
      "source": [
        ""
      ],
      "execution_count": null,
      "outputs": []
    }
  ]
}